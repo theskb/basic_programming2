{
 "cells": [
  {
   "cell_type": "code",
   "execution_count": null,
   "metadata": {},
   "outputs": [],
   "source": [
    "#Q1.Write a Python program to convert kilometers to miles?"
   ]
  },
  {
   "cell_type": "code",
   "execution_count": 2,
   "metadata": {},
   "outputs": [
    {
     "name": "stdout",
     "output_type": "stream",
     "text": [
      "Enter Kilometer = 10\n",
      "10 kilometer =  6.2 miles\n"
     ]
    }
   ],
   "source": [
    "km=int(input(\"Enter Kilometer = \"))\n",
    "miles= km*0.62\n",
    "print(km,\"kilometer = \",miles,\"miles\")"
   ]
  },
  {
   "cell_type": "code",
   "execution_count": null,
   "metadata": {},
   "outputs": [],
   "source": [
    "#Q2.Write a Python program to convert Celsius to Fahrenheit?"
   ]
  },
  {
   "cell_type": "code",
   "execution_count": 3,
   "metadata": {},
   "outputs": [
    {
     "name": "stdout",
     "output_type": "stream",
     "text": [
      "Enter Temperature in celcius =30\n",
      "30 C = 86.0 farenheit\n"
     ]
    }
   ],
   "source": [
    "celcius= int(input(\"Enter Temperature in celcius =\"))\n",
    "farenheit =(celcius * 9/5) + 32\n",
    "print(celcius,\"C =\",farenheit,\"farenheit\")"
   ]
  },
  {
   "cell_type": "code",
   "execution_count": null,
   "metadata": {},
   "outputs": [],
   "source": [
    "#Q3.Write a Python program to display calendar?"
   ]
  },
  {
   "cell_type": "code",
   "execution_count": 5,
   "metadata": {},
   "outputs": [
    {
     "name": "stdout",
     "output_type": "stream",
     "text": [
      "Enter year =2022\n",
      "ENter month =01\n",
      "    January 2022\n",
      "Mo Tu We Th Fr Sa Su\n",
      "                1  2\n",
      " 3  4  5  6  7  8  9\n",
      "10 11 12 13 14 15 16\n",
      "17 18 19 20 21 22 23\n",
      "24 25 26 27 28 29 30\n",
      "31\n",
      "\n"
     ]
    }
   ],
   "source": [
    "import calendar\n",
    "yy=int(input(\"Enter year =\"))\n",
    "mm=int(input(\"ENter month =\"))\n",
    "print(calendar.month(yy,mm))"
   ]
  },
  {
   "cell_type": "code",
   "execution_count": null,
   "metadata": {},
   "outputs": [],
   "source": [
    "#Q4.Write a Python program to solve quadratic equation?"
   ]
  },
  {
   "cell_type": "code",
   "execution_count": 6,
   "metadata": {},
   "outputs": [
    {
     "name": "stdout",
     "output_type": "stream",
     "text": [
      "Enter a =2\n",
      "Enter b =6\n",
      "Enter c =8\n",
      "First root is  (-1.5+1.3228756555322954j) \n",
      " Second root is  (-1.5-1.3228756555322954j)\n"
     ]
    }
   ],
   "source": [
    "import cmath\n",
    "a=int(input(\"Enter a =\"))\n",
    "b=int(input(\"Enter b =\"))\n",
    "c=int(input(\"Enter c =\"))\n",
    "discriminant=(b**2)-(4*a*c)\n",
    "root1=(-b+cmath.sqrt(discriminant))/(2*a)\n",
    "root2=(-b-cmath.sqrt(discriminant))/(2*a)\n",
    "print(\"First root is \",root1,\"\\n Second root is \",root2)"
   ]
  },
  {
   "cell_type": "code",
   "execution_count": null,
   "metadata": {},
   "outputs": [],
   "source": [
    "#Q5.Write a Python program to swap two variables without temp variable?"
   ]
  },
  {
   "cell_type": "code",
   "execution_count": 7,
   "metadata": {},
   "outputs": [
    {
     "name": "stdout",
     "output_type": "stream",
     "text": [
      "Enter the first value =21\n",
      "Enter the second value=20\n",
      "After swap \n",
      "First value= 20 \n",
      " Second value= 21\n"
     ]
    }
   ],
   "source": [
    "var1=input(\"Enter the first value =\")\n",
    "var2=input(\"Enter the second value=\")\n",
    "print(\"After swap \")\n",
    "var1 , var2 = var2 , var1\n",
    "print(\"First value=\",var1,\"\\n Second value=\",var2)"
   ]
  },
  {
   "cell_type": "code",
   "execution_count": null,
   "metadata": {},
   "outputs": [],
   "source": []
  },
  {
   "cell_type": "code",
   "execution_count": null,
   "metadata": {},
   "outputs": [],
   "source": []
  }
 ],
 "metadata": {
  "kernelspec": {
   "display_name": "Python 3",
   "language": "python",
   "name": "python3"
  },
  "language_info": {
   "codemirror_mode": {
    "name": "ipython",
    "version": 3
   },
   "file_extension": ".py",
   "mimetype": "text/x-python",
   "name": "python",
   "nbconvert_exporter": "python",
   "pygments_lexer": "ipython3",
   "version": "3.8.5"
  }
 },
 "nbformat": 4,
 "nbformat_minor": 4
}
